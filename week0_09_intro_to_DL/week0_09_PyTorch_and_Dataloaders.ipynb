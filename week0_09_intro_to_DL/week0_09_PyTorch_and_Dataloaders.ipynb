{
 "cells": [
  {
   "cell_type": "markdown",
   "metadata": {},
   "source": [
    "# week0_10: PyTorch practice, hints and Dataloaders"
   ]
  },
  {
   "cell_type": "markdown",
   "metadata": {},
   "source": [
    "Credits:\n",
    "* First part is based on YSDA [Practical RL course week04 materials](https://github.com/yandexdataschool/Practical_RL/tree/master/week04_%5Brecap%5D_deep_learning).\n",
    "* Second part is based on PyTorch official tutorials and [this kaggle kernel](https://www.kaggle.com/pinocookie/pytorch-dataset-and-dataloader)\n",
    "* Third part is based on PyTorch tutorial by [Stanford CS 231n course](http://cs231n.stanford.edu)"
   ]
  },
  {
   "cell_type": "markdown",
   "metadata": {},
   "source": [
    "![img](https://pytorch.org/tutorials/_static/pytorch-logo-dark.svg)\n",
    "\n",
    "__This notebook__ will teach you to use pytorch low-level core. You can install it [here](http://pytorch.org/).\n",
    "\n",
    "__Pytorch feels__ differently than other frameworks (like tensorflow/theano) on almost every level. TensorFlow makes your code live in two \"worlds\" simultaneously:  symbolic graphs and actual tensors. First you declare a symbolic \"recipe\" of how to get from inputs to outputs, then feed it with actual minibatches of data.  In pytorch, __there's only one world__: all tensors have a numeric value.\n",
    "\n",
    "You compute outputs on the fly without pre-declaring anything. The code looks exactly as in pure numpy with one exception: pytorch computes gradients for you. And can run stuff on GPU. And has a number of pre-implemented building blocks for your neural nets. [And a few more things.](https://medium.com/towards-data-science/pytorch-vs-tensorflow-spotting-the-difference-25c75777377b)\n",
    "\n",
    "Let's dive into it!"
   ]
  },
  {
   "cell_type": "code",
   "execution_count": 1,
   "metadata": {
    "ExecuteTime": {
     "end_time": "2021-03-27T14:34:29.830958Z",
     "start_time": "2021-03-27T14:34:28.265210Z"
    }
   },
   "outputs": [],
   "source": [
    "import matplotlib.pyplot as plt\n",
    "import numpy as np  # linear algebra\n",
    "import pandas as pd  # data processing, CSV file I/O (e.g. pd.read_csv)\n",
    "import torch\n",
    "import torchvision\n",
    "from torch.utils.data import DataLoader, Dataset, Subset\n",
    "from torchvision import transforms"
   ]
  },
  {
   "cell_type": "markdown",
   "metadata": {},
   "source": [
    "### Task 1: Tensormancy\n",
    "\n",
    "__1.1 The [_disclaimer_](https://gist.githubusercontent.com/justheuristic/e2c1fa28ca02670cabc42cacf3902796/raw/fd3d935cef63a01b85ed2790b5c11c370245cbd7/stddisclaimer.h)__\n",
    "\n",
    "Let's write another function, this time in polar coordinates:\n",
    "$$\\rho(\\theta) = (1 + 0.9 \\cdot cos (6 \\cdot \\theta) ) \\cdot (1 + 0.01 \\cdot cos(24 \\cdot \\theta)) \\cdot (0.5 + 0.05 \\cdot cos(200 \\cdot \\theta)) \\cdot (10 + sin(10 \\cdot \\theta))$$\n",
    "\n",
    "\n",
    "Then convert it into cartesian coordinates ([howto](http://www.mathsisfun.com/polar-cartesian-coordinates.html)) and plot the results.\n",
    "\n",
    "Use torch tensors only: no lists, loops, numpy arrays, etc."
   ]
  },
  {
   "cell_type": "code",
   "execution_count": null,
   "metadata": {
    "ExecuteTime": {
     "end_time": "2021-03-27T14:34:33.177280Z",
     "start_time": "2021-03-27T14:34:32.972008Z"
    }
   },
   "outputs": [],
   "source": [
    "theta = torch.linspace(-np.pi, np.pi, steps=1000)\n",
    "\n",
    "# compute rho(theta) as per formula above\n",
    "rho = None  # YOUR CODE HERE\n",
    "\n",
    "# Now convert polar (rho, theta) pairs into cartesian (x,y) to plot them.\n",
    "x = None  # YOUR CODE HERE\n",
    "y = None  # YOUR CODE HERE\n",
    "\n",
    "\n",
    "plt.figure(figsize=(6, 6))\n",
    "plt.fill(x.numpy(), y.numpy(), color=\"red\")\n",
    "plt.grid()"
   ]
  },
  {
   "cell_type": "markdown",
   "metadata": {},
   "source": [
    "### Task 2: Using the Dataloader"
   ]
  },
  {
   "cell_type": "code",
   "execution_count": 2,
   "metadata": {
    "ExecuteTime": {
     "end_time": "2021-03-26T10:15:52.767018Z",
     "start_time": "2021-03-26T10:15:52.765117Z"
    }
   },
   "outputs": [],
   "source": [
    "from torch import nn\n",
    "from torch.nn import functional as F"
   ]
  },
  {
   "cell_type": "code",
   "execution_count": 3,
   "metadata": {
    "ExecuteTime": {
     "end_time": "2021-03-26T10:15:55.511280Z",
     "start_time": "2021-03-26T10:15:55.509216Z"
    }
   },
   "outputs": [],
   "source": [
    "# !wget https://raw.githubusercontent.com/neychev/harbour_ml2020/master/day10_Optimization_and_regularization_in_DL/notmnist.py"
   ]
  },
  {
   "cell_type": "code",
   "execution_count": 4,
   "metadata": {
    "ExecuteTime": {
     "end_time": "2021-03-26T10:15:56.546079Z",
     "start_time": "2021-03-26T10:15:55.956548Z"
    }
   },
   "outputs": [],
   "source": [
    "from notmnist import load_notmnist"
   ]
  },
  {
   "cell_type": "code",
   "execution_count": 5,
   "metadata": {
    "ExecuteTime": {
     "end_time": "2021-03-26T10:16:17.228315Z",
     "start_time": "2021-03-26T10:15:58.389389Z"
    }
   },
   "outputs": [
    {
     "name": "stdout",
     "output_type": "stream",
     "text": [
      "Downloading data...\n",
      "Extracting ...\n",
      "Parsing...\n",
      "found broken img: ./notMNIST_small/A/RGVtb2NyYXRpY2FCb2xkT2xkc3R5bGUgQm9sZC50dGY=.png [it's ok if <10 images are broken]\n",
      "found broken img: ./notMNIST_small/F/Q3Jvc3NvdmVyIEJvbGRPYmxpcXVlLnR0Zg==.png [it's ok if <10 images are broken]\n",
      "Done\n"
     ]
    }
   ],
   "source": [
    "X_train, y_train, X_test, y_test = load_notmnist()"
   ]
  },
  {
   "cell_type": "code",
   "execution_count": 8,
   "metadata": {
    "ExecuteTime": {
     "end_time": "2021-03-26T10:24:18.439809Z",
     "start_time": "2021-03-26T10:24:18.436137Z"
    }
   },
   "outputs": [],
   "source": [
    "class DatasetMNIST(Dataset):\n",
    "    def __init__(self, path=\"./notMNIST_small\", letters=\"ABCDEFGHIJ\", transform=None):\n",
    "        self.data, self.labels, _, _ = load_notmnist(path=path, letters=letters, test_size=0.25)\n",
    "        self.transform = transform\n",
    "\n",
    "    def __len__(self):\n",
    "        return len(self.data)\n",
    "\n",
    "    def __getitem__(self, index: int):\n",
    "        # load image as ndarray type (Height * Width * Channels)\n",
    "        # be carefull for converting dtype to np.uint8 [Unsigned integer (0 to 255)]\n",
    "        # in this example, i don't use ToTensor() method of torchvision.transforms\n",
    "        # so you can convert numpy ndarray shape to tensor in PyTorch (H, W, C) --> (C, H, W)\n",
    "        image = self.data[index].transpose(1, 2, 0)\n",
    "        label = self.labels[index]\n",
    "\n",
    "        if self.transform is not None:\n",
    "            image = self.transform(image)\n",
    "\n",
    "        return image, label"
   ]
  },
  {
   "cell_type": "code",
   "execution_count": 9,
   "metadata": {
    "ExecuteTime": {
     "end_time": "2021-03-26T10:24:20.257555Z",
     "start_time": "2021-03-26T10:24:18.851715Z"
    }
   },
   "outputs": [
    {
     "name": "stdout",
     "output_type": "stream",
     "text": [
      "Parsing...\n",
      "found broken img: ./notMNIST_small/A/RGVtb2NyYXRpY2FCb2xkT2xkc3R5bGUgQm9sZC50dGY=.png [it's ok if <10 images are broken]\n",
      "Done\n"
     ]
    }
   ],
   "source": [
    "full_dataset = DatasetMNIST(\"./notMNIST_small\", \"AB\", transform=None)"
   ]
  },
  {
   "cell_type": "code",
   "execution_count": 10,
   "metadata": {
    "ExecuteTime": {
     "end_time": "2021-03-26T10:24:39.111606Z",
     "start_time": "2021-03-26T10:24:39.108932Z"
    }
   },
   "outputs": [
    {
     "name": "stdout",
     "output_type": "stream",
     "text": [
      "(28, 28, 1)\n",
      "<class 'numpy.ndarray'>\n"
     ]
    }
   ],
   "source": [
    "# we can access and get data with index by __getitem__(index)\n",
    "img, lab = full_dataset.__getitem__(0)\n",
    "\n",
    "print(img.shape)\n",
    "print(type(img))"
   ]
  },
  {
   "cell_type": "code",
   "execution_count": 11,
   "metadata": {
    "ExecuteTime": {
     "end_time": "2021-03-26T10:25:55.426908Z",
     "start_time": "2021-03-26T10:25:55.413199Z"
    }
   },
   "outputs": [
    {
     "data": {
      "text/plain": [
       "torch.Size([1, 28, 28])"
      ]
     },
     "execution_count": 11,
     "metadata": {},
     "output_type": "execute_result"
    }
   ],
   "source": [
    "a = torchvision.transforms.ToTensor()\n",
    "\n",
    "a(img).shape"
   ]
  },
  {
   "cell_type": "code",
   "execution_count": 17,
   "metadata": {
    "ExecuteTime": {
     "end_time": "2021-03-26T10:26:22.273019Z",
     "start_time": "2021-03-26T10:26:22.114674Z"
    }
   },
   "outputs": [
    {
     "data": {
      "image/png": "[encoded data removed]",
      "text/plain": [
       "<Figure size 432x288 with 2 Axes>"
      ]
     },
     "metadata": {
      "needs_background": "light"
     },
     "output_type": "display_data"
    }
   ],
   "source": [
    "inds = np.random.randint(len(full_dataset), size=2)\n",
    "\n",
    "for i in range(2):\n",
    "    plt.subplot(1, 2, i + 1)\n",
    "    plt.imshow(full_dataset[inds[i]][0].reshape([28, 28]))\n",
    "    plt.title(str(full_dataset[inds[i]][1]))"
   ]
  },
  {
   "cell_type": "markdown",
   "metadata": {},
   "source": [
    "#### To the DataLoader"
   ]
  },
  {
   "cell_type": "code",
   "execution_count": 19,
   "metadata": {
    "ExecuteTime": {
     "end_time": "2021-03-26T10:31:34.136103Z",
     "start_time": "2021-03-26T10:31:34.134180Z"
    }
   },
   "outputs": [],
   "source": [
    "train_loader = DataLoader(full_dataset, batch_size=8, shuffle=True)"
   ]
  },
  {
   "cell_type": "markdown",
   "metadata": {},
   "source": [
    "We can use dataloader as iterator by using iter() function."
   ]
  },
  {
   "cell_type": "code",
   "execution_count": 20,
   "metadata": {
    "ExecuteTime": {
     "end_time": "2021-03-26T10:31:34.976965Z",
     "start_time": "2021-03-26T10:31:34.966776Z"
    }
   },
   "outputs": [
    {
     "name": "stdout",
     "output_type": "stream",
     "text": [
      "<class 'torch.utils.data.dataloader._SingleProcessDataLoaderIter'>\n"
     ]
    }
   ],
   "source": [
    "train_iter = iter(train_loader)\n",
    "print(type(train_iter))"
   ]
  },
  {
   "cell_type": "markdown",
   "metadata": {},
   "source": [
    "We can look at images and labels of batch size by extracting data `.next()` method."
   ]
  },
  {
   "cell_type": "code",
   "execution_count": 21,
   "metadata": {
    "ExecuteTime": {
     "end_time": "2021-03-26T10:31:35.893085Z",
     "start_time": "2021-03-26T10:31:35.878079Z"
    }
   },
   "outputs": [
    {
     "name": "stdout",
     "output_type": "stream",
     "text": [
      "images shape on batch size = torch.Size([8, 28, 28, 1])\n",
      "labels shape on batch size = torch.Size([8])\n"
     ]
    }
   ],
   "source": [
    "images, labels = train_iter.next()\n",
    "\n",
    "print(\"images shape on batch size = {}\".format(images.size()))\n",
    "print(\"labels shape on batch size = {}\".format(labels.size()))"
   ]
  },
  {
   "cell_type": "code",
   "execution_count": 22,
   "metadata": {
    "ExecuteTime": {
     "end_time": "2021-03-26T10:31:36.467101Z",
     "start_time": "2021-03-26T10:31:36.406525Z"
    }
   },
   "outputs": [
    {
     "name": "stderr",
     "output_type": "stream",
     "text": [
      "Clipping input data to the valid range for imshow with RGB data ([0..1] for floats or [0..255] for integers).\n",
      "/usr/local/Caskroom/miniconda/base/envs/ml-mipt/lib/python3.8/site-packages/matplotlib/text.py:1165: FutureWarning: elementwise comparison failed; returning scalar instead, but in the future will perform elementwise comparison\n",
      "  if s != self._text:\n"
     ]
    },
    {
     "data": {
      "image/png": "[encoded data removed]",
      "text/plain": [
       "<Figure size 432x288 with 1 Axes>"
      ]
     },
     "metadata": {
      "needs_background": "light"
     },
     "output_type": "display_data"
    }
   ],
   "source": [
    "# make grid takes tensor as arg\n",
    "# tensor : (batchsize, channels, height, width)\n",
    "grid = torchvision.utils.make_grid(images.permute([0, 3, 1, 2]))\n",
    "\n",
    "plt.imshow(grid.numpy().transpose((1, 2, 0)))\n",
    "plt.axis(\"off\")\n",
    "plt.title(labels.numpy());"
   ]
  },
  {
   "cell_type": "markdown",
   "metadata": {},
   "source": [
    "And now with transformations:"
   ]
  },
  {
   "cell_type": "code",
   "execution_count": 23,
   "metadata": {
    "ExecuteTime": {
     "end_time": "2021-03-26T10:33:03.869384Z",
     "start_time": "2021-03-26T10:32:56.400694Z"
    }
   },
   "outputs": [
    {
     "name": "stdout",
     "output_type": "stream",
     "text": [
      "Parsing...\n",
      "found broken img: ./notMNIST_small/A/RGVtb2NyYXRpY2FCb2xkT2xkc3R5bGUgQm9sZC50dGY=.png [it's ok if <10 images are broken]\n",
      "found broken img: ./notMNIST_small/F/Q3Jvc3NvdmVyIEJvbGRPYmxpcXVlLnR0Zg==.png [it's ok if <10 images are broken]\n",
      "Done\n"
     ]
    }
   ],
   "source": [
    "train_dataset_with_transform = DatasetMNIST(transform=torchvision.transforms.ToTensor())"
   ]
  },
  {
   "cell_type": "code",
   "execution_count": 24,
   "metadata": {
    "ExecuteTime": {
     "end_time": "2021-03-26T10:33:03.873978Z",
     "start_time": "2021-03-26T10:33:03.871143Z"
    }
   },
   "outputs": [
    {
     "name": "stdout",
     "output_type": "stream",
     "text": [
      "image shape at the first row : torch.Size([1, 28, 28])\n"
     ]
    }
   ],
   "source": [
    "img, lab = train_dataset_with_transform.__getitem__(0)\n",
    "\n",
    "print(\"image shape at the first row : {}\".format(img.size()))"
   ]
  },
  {
   "cell_type": "code",
   "execution_count": 25,
   "metadata": {
    "ExecuteTime": {
     "end_time": "2021-03-26T10:33:26.684896Z",
     "start_time": "2021-03-26T10:33:26.680740Z"
    }
   },
   "outputs": [
    {
     "name": "stdout",
     "output_type": "stream",
     "text": [
      "<class 'torch.utils.data.dataloader._SingleProcessDataLoaderIter'>\n",
      "images shape on batch size = torch.Size([8, 1, 28, 28])\n",
      "labels shape on batch size = torch.Size([8])\n"
     ]
    }
   ],
   "source": [
    "train_loader_tr = DataLoader(train_dataset_with_transform, batch_size=8, shuffle=True)\n",
    "\n",
    "train_iter_tr = iter(train_loader_tr)\n",
    "print(type(train_iter_tr))\n",
    "\n",
    "images, labels = train_iter_tr.next()\n",
    "\n",
    "print(\"images shape on batch size = {}\".format(images.size()))\n",
    "print(\"labels shape on batch size = {}\".format(labels.size()))"
   ]
  },
  {
   "cell_type": "code",
   "execution_count": 26,
   "metadata": {
    "ExecuteTime": {
     "end_time": "2021-03-26T10:33:38.577033Z",
     "start_time": "2021-03-26T10:33:38.529879Z"
    }
   },
   "outputs": [
    {
     "name": "stderr",
     "output_type": "stream",
     "text": [
      "Clipping input data to the valid range for imshow with RGB data ([0..1] for floats or [0..255] for integers).\n"
     ]
    },
    {
     "data": {
      "image/png": "[encoded data removed]",
      "text/plain": [
       "<Figure size 432x288 with 1 Axes>"
      ]
     },
     "metadata": {
      "needs_background": "light"
     },
     "output_type": "display_data"
    }
   ],
   "source": [
    "grid = torchvision.utils.make_grid(images)\n",
    "\n",
    "plt.imshow(grid.numpy().transpose((1, 2, 0)))\n",
    "plt.axis(\"off\")\n",
    "plt.title(labels.numpy());"
   ]
  },
  {
   "cell_type": "markdown",
   "metadata": {},
   "source": [
    "### Composing several transformations"
   ]
  },
  {
   "cell_type": "markdown",
   "metadata": {},
   "source": [
    "If you want to take data augmentation, you have to make List using `torchvision.transforms.Compose`\n",
    "\n",
    "```\n",
    "class Compose(object):\n",
    "    \"\"\"Composes several transforms together.\n",
    "    Args:\n",
    "        transforms (list of ``Transform`` objects): list of transforms to compose.\n",
    "    Example:\n",
    "        >>> transforms.Compose([\n",
    "        >>>     transforms.CenterCrop(10),\n",
    "        >>>     transforms.ToTensor(),\n",
    "        >>> ])\n",
    "    \"\"\"\n",
    "\n",
    "    def __init__(self, transforms):\n",
    "        self.transforms = transforms\n",
    "\n",
    "    def __call__(self, img):\n",
    "        for t in self.transforms:\n",
    "            img = t(img)\n",
    "        return img\n",
    "\n",
    "    def __repr__(self):\n",
    "        format_string = self.__class__.__name__ + '('\n",
    "        for t in self.transforms:\n",
    "            format_string += '\\n'\n",
    "            format_string += '    {0}'.format(t)\n",
    "        format_string += '\\n)'\n",
    "        return format_string\n",
    "```\n",
    "\n",
    "\n",
    "this function can convert some image by order within `__call__` method."
   ]
  },
  {
   "cell_type": "code",
   "execution_count": 30,
   "metadata": {
    "ExecuteTime": {
     "end_time": "2021-03-26T10:35:58.013322Z",
     "start_time": "2021-03-26T10:35:58.010848Z"
    }
   },
   "outputs": [],
   "source": [
    "class Flatten:\n",
    "    def __init__(self, params):\n",
    "        self.params = params\n",
    "\n",
    "    def __call__(self, pic):\n",
    "        return pic.flatten(self.params)\n",
    "\n",
    "    def __repr__(self):\n",
    "        return self.__class__.__name__ + \"()\""
   ]
  },
  {
   "cell_type": "code",
   "execution_count": 33,
   "metadata": {
    "ExecuteTime": {
     "end_time": "2021-03-26T10:40:04.343687Z",
     "start_time": "2021-03-26T10:40:04.341991Z"
    }
   },
   "outputs": [],
   "source": [
    "a = Flatten()"
   ]
  },
  {
   "cell_type": "code",
   "execution_count": 34,
   "metadata": {
    "ExecuteTime": {
     "end_time": "2021-03-26T10:40:04.879067Z",
     "start_time": "2021-03-26T10:40:04.876273Z"
    }
   },
   "outputs": [
    {
     "data": {
      "text/plain": [
       "torch.Size([784])"
      ]
     },
     "execution_count": 34,
     "metadata": {},
     "output_type": "execute_result"
    }
   ],
   "source": [
    "a(img).shape"
   ]
  },
  {
   "cell_type": "code",
   "execution_count": 35,
   "metadata": {
    "ExecuteTime": {
     "end_time": "2021-03-26T10:40:05.486275Z",
     "start_time": "2021-03-26T10:40:05.484091Z"
    }
   },
   "outputs": [],
   "source": [
    "new_transform = torchvision.transforms.Compose(\n",
    "    [\n",
    "        torchvision.transforms.ToTensor(),\n",
    "        Flatten(),\n",
    "    ]\n",
    ")"
   ]
  },
  {
   "cell_type": "markdown",
   "metadata": {},
   "source": [
    "# Putting all together"
   ]
  },
  {
   "cell_type": "code",
   "execution_count": 36,
   "metadata": {
    "ExecuteTime": {
     "end_time": "2021-03-26T10:40:39.951920Z",
     "start_time": "2021-03-26T10:40:39.950205Z"
    }
   },
   "outputs": [],
   "source": [
    "import time\n",
    "\n",
    "from IPython.display import clear_output"
   ]
  },
  {
   "cell_type": "code",
   "execution_count": 37,
   "metadata": {
    "ExecuteTime": {
     "end_time": "2021-03-26T10:40:43.626183Z",
     "start_time": "2021-03-26T10:40:43.621924Z"
    }
   },
   "outputs": [
    {
     "data": {
      "text/plain": [
       "device(type='cpu')"
      ]
     },
     "execution_count": 37,
     "metadata": {},
     "output_type": "execute_result"
    }
   ],
   "source": [
    "# use GPU if available\n",
    "device = torch.device(\"cuda\") if torch.cuda.is_available() else torch.device(\"cpu\")\n",
    "device"
   ]
  },
  {
   "cell_type": "code",
   "execution_count": 41,
   "metadata": {
    "ExecuteTime": {
     "end_time": "2021-03-26T10:42:31.866428Z",
     "start_time": "2021-03-26T10:42:31.864094Z"
    }
   },
   "outputs": [],
   "source": [
    "def subset_ind(dataset, ratio: float):\n",
    "    return torch.randint(len(dataset), (int(len(dataset) * ratio),))  # YOUR CODE HERE"
   ]
  },
  {
   "cell_type": "code",
   "execution_count": 42,
   "metadata": {
    "ExecuteTime": {
     "end_time": "2021-03-26T10:42:35.613495Z",
     "start_time": "2021-03-26T10:42:32.191871Z"
    }
   },
   "outputs": [
    {
     "name": "stdout",
     "output_type": "stream",
     "text": [
      "Parsing...\n",
      "found broken img: ./notMNIST_small/A/RGVtb2NyYXRpY2FCb2xkT2xkc3R5bGUgQm9sZC50dGY=.png [it's ok if <10 images are broken]\n",
      "found broken img: ./notMNIST_small/F/Q3Jvc3NvdmVyIEJvbGRPYmxpcXVlLnR0Zg==.png [it's ok if <10 images are broken]\n",
      "Done\n",
      "\n",
      "\n",
      " dataset size: 2808, labels: [0 1 2 3 4 5 6 7 8 9]\n"
     ]
    }
   ],
   "source": [
    "dataset = DatasetMNIST(\n",
    "    \"./notMNIST_small\",\n",
    "    #   \"AB\",\n",
    "    transform=new_transform,\n",
    ")\n",
    "\n",
    "shrink_inds = subset_ind(dataset, 0.2)\n",
    "dataset = Subset(dataset, shrink_inds)\n",
    "\n",
    "print(f\"\\n\\n dataset size: {len(dataset)}, labels: {np.unique(dataset.dataset.labels)}\")"
   ]
  },
  {
   "cell_type": "code",
   "execution_count": 43,
   "metadata": {
    "ExecuteTime": {
     "end_time": "2021-03-26T10:44:11.846916Z",
     "start_time": "2021-03-26T10:44:11.793493Z"
    }
   },
   "outputs": [
    {
     "name": "stdout",
     "output_type": "stream",
     "text": [
      "  training size: 2292\n",
      "validation size: 561\n"
     ]
    }
   ],
   "source": [
    "val_size = 0.2\n",
    "val_inds = subset_ind(dataset, val_size)\n",
    "\n",
    "train_dataset = Subset(dataset, [i for i in range(len(dataset)) if i not in val_inds])\n",
    "val_dataset = Subset(dataset, val_inds)\n",
    "\n",
    "print(f\"  training size: {len(train_dataset)}\\nvalidation size: {len(val_dataset)}\")"
   ]
  },
  {
   "cell_type": "code",
   "execution_count": 44,
   "metadata": {
    "ExecuteTime": {
     "end_time": "2021-03-26T10:45:00.299952Z",
     "start_time": "2021-03-26T10:45:00.297439Z"
    }
   },
   "outputs": [],
   "source": [
    "batch_size = 32\n",
    "\n",
    "train_loader = DataLoader(train_dataset, batch_size=batch_size, shuffle=True)\n",
    "val_loader = DataLoader(val_dataset, batch_size=batch_size, shuffle=True)"
   ]
  },
  {
   "cell_type": "code",
   "execution_count": 45,
   "metadata": {
    "ExecuteTime": {
     "end_time": "2021-03-26T10:45:07.822983Z",
     "start_time": "2021-03-26T10:45:07.817329Z"
    }
   },
   "outputs": [
    {
     "name": "stdout",
     "output_type": "stream",
     "text": [
      "<class 'torch.utils.data.dataloader._SingleProcessDataLoaderIter'>\n",
      "images shape on batch size = torch.Size([32, 784])\n",
      "labels shape on batch size = torch.Size([32])\n"
     ]
    }
   ],
   "source": [
    "train_iter = iter(train_loader)\n",
    "print(type(train_iter))\n",
    "\n",
    "images, labels = train_iter.next()\n",
    "\n",
    "print(\"images shape on batch size = {}\".format(images.size()))\n",
    "print(\"labels shape on batch size = {}\".format(labels.size()))"
   ]
  },
  {
   "cell_type": "code",
   "execution_count": 46,
   "metadata": {
    "ExecuteTime": {
     "end_time": "2021-03-26T10:45:52.836121Z",
     "start_time": "2021-03-26T10:45:52.834244Z"
    }
   },
   "outputs": [],
   "source": [
    "loss_func = nn.CrossEntropyLoss()"
   ]
  },
  {
   "cell_type": "code",
   "execution_count": 47,
   "metadata": {
    "ExecuteTime": {
     "end_time": "2021-03-26T10:46:55.500858Z",
     "start_time": "2021-03-26T10:46:55.491569Z"
    }
   },
   "outputs": [],
   "source": [
    "# create network again just in case\n",
    "model = nn.Sequential(\n",
    "    nn.Linear(784, 10),\n",
    "    nn.Sigmoid(),\n",
    ")\n",
    "model.to(device, torch.float32)\n",
    "\n",
    "opt = torch.optim.Adam(model.parameters(), lr=1e-3)"
   ]
  },
  {
   "cell_type": "code",
   "execution_count": 53,
   "metadata": {
    "ExecuteTime": {
     "end_time": "2021-03-26T11:10:58.195682Z",
     "start_time": "2021-03-26T11:10:58.193240Z"
    }
   },
   "outputs": [],
   "source": [
    "from sklearn.metrics import accuracy_score"
   ]
  },
  {
   "cell_type": "code",
   "execution_count": 54,
   "metadata": {
    "ExecuteTime": {
     "end_time": "2021-03-26T11:11:57.656385Z",
     "start_time": "2021-03-26T11:11:57.648512Z"
    }
   },
   "outputs": [],
   "source": [
    "def train_model(model, train_loader, val_loader, loss_fn, opt, n_epochs: int):\n",
    "    train_loss = []\n",
    "    val_loss = []\n",
    "    val_accuracy = []\n",
    "\n",
    "    for epoch in range(n_epochs):\n",
    "        ep_train_loss = []\n",
    "        ep_val_loss = []\n",
    "        ep_val_accuracy = []\n",
    "        start_time = time.time()\n",
    "\n",
    "        model.train(True)  # enable dropout / batch_norm training behavior\n",
    "        for X_batch, y_batch in train_loader:\n",
    "            # move data to target device\n",
    "            X_batch, y_batch = X_batch.to(device), y_batch.to(device)\n",
    "\n",
    "            # train on batch: compute loss, calc grads, perform optimizer step and zero the grads\n",
    "\n",
    "            # forward pass, predict target with model\n",
    "            preds = model(X_batch)\n",
    "\n",
    "            # compute loss\n",
    "            loss = loss_fn(preds, y_batch)\n",
    "\n",
    "            # backward pass, compute gradients\n",
    "            loss.backward()\n",
    "\n",
    "            # potimization step - train model weights\n",
    "            opt.step()\n",
    "\n",
    "            # clear gradients\n",
    "            opt.zero_grad()\n",
    "\n",
    "            ep_train_loss.append(loss.item())\n",
    "\n",
    "        model.train(False)  # disable dropout / use averages for batch_norm\n",
    "        with torch.no_grad():\n",
    "            for X_batch, y_batch in val_loader:\n",
    "                # move data to target device\n",
    "                X_batch, y_batch = X_batch.to(device), y_batch.to(device)\n",
    "\n",
    "                # compute predictions\n",
    "                preds = model(X_batch)\n",
    "                loss = loss_fn(preds, y_batch)\n",
    "\n",
    "                ep_val_loss.append(loss)  # YOUR CODE HERE\n",
    "                y_pred = preds.argmax(dim=1)  # YOUR CODE HERE\n",
    "                ep_val_accuracy.append(accuracy_score(y_batch, y_pred))  # YOUR CODE HERE)\n",
    "\n",
    "        # print the results for this epoch:\n",
    "        print(f\"Epoch {epoch + 1} of {n_epochs} took {time.time() - start_time:.3f}s\")\n",
    "\n",
    "        train_loss.append(np.mean(ep_train_loss))\n",
    "        val_loss.append(np.mean(ep_val_loss))\n",
    "        val_accuracy.append(np.mean(ep_val_accuracy))\n",
    "\n",
    "        print(f\"\\t  training loss: {train_loss[-1]:.6f}\")\n",
    "        print(f\"\\tvalidation loss: {val_loss[-1]:.6f}\")\n",
    "        print(f\"\\tvalidation accuracy: {val_accuracy[-1]:.3f}\")\n",
    "\n",
    "    return train_loss, val_loss, val_accuracy"
   ]
  },
  {
   "cell_type": "code",
   "execution_count": 64,
   "metadata": {
    "ExecuteTime": {
     "end_time": "2021-03-26T11:13:28.893491Z",
     "start_time": "2021-03-26T11:13:19.442922Z"
    },
    "scrolled": true
   },
   "outputs": [
    {
     "name": "stdout",
     "output_type": "stream",
     "text": [
      "Epoch 1 of 100 took 0.098s\n",
      "\t  training loss: 1.550566\n",
      "\tvalidation loss: 1.614021\n",
      "\tvalidation accuracy: 0.845\n",
      "Epoch 2 of 100 took 0.097s\n",
      "\t  training loss: 1.549042\n",
      "\tvalidation loss: 1.609073\n",
      "\tvalidation accuracy: 0.854\n",
      "Epoch 3 of 100 took 0.090s\n",
      "\t  training loss: 1.547985\n",
      "\tvalidation loss: 1.607701\n",
      "\tvalidation accuracy: 0.855\n",
      "Epoch 4 of 100 took 0.098s\n",
      "\t  training loss: 1.546953\n",
      "\tvalidation loss: 1.610052\n",
      "\tvalidation accuracy: 0.852\n",
      "Epoch 5 of 100 took 0.098s\n",
      "\t  training loss: 1.545932\n",
      "\tvalidation loss: 1.605459\n",
      "\tvalidation accuracy: 0.858\n",
      "Epoch 6 of 100 took 0.091s\n",
      "\t  training loss: 1.545011\n",
      "\tvalidation loss: 1.608110\n",
      "\tvalidation accuracy: 0.858\n",
      "Epoch 7 of 100 took 0.095s\n",
      "\t  training loss: 1.544070\n",
      "\tvalidation loss: 1.611062\n",
      "\tvalidation accuracy: 0.849\n",
      "Epoch 8 of 100 took 0.093s\n",
      "\t  training loss: 1.542841\n",
      "\tvalidation loss: 1.609696\n",
      "\tvalidation accuracy: 0.850\n",
      "Epoch 9 of 100 took 0.090s\n",
      "\t  training loss: 1.542077\n",
      "\tvalidation loss: 1.605458\n",
      "\tvalidation accuracy: 0.855\n",
      "Epoch 10 of 100 took 0.092s\n",
      "\t  training loss: 1.541369\n",
      "\tvalidation loss: 1.606369\n",
      "\tvalidation accuracy: 0.855\n",
      "Epoch 11 of 100 took 0.096s\n",
      "\t  training loss: 1.539431\n",
      "\tvalidation loss: 1.608046\n",
      "\tvalidation accuracy: 0.853\n",
      "Epoch 12 of 100 took 0.092s\n",
      "\t  training loss: 1.539319\n",
      "\tvalidation loss: 1.605718\n",
      "\tvalidation accuracy: 0.851\n",
      "Epoch 13 of 100 took 0.095s\n",
      "\t  training loss: 1.538737\n",
      "\tvalidation loss: 1.607972\n",
      "\tvalidation accuracy: 0.851\n",
      "Epoch 14 of 100 took 0.095s\n",
      "\t  training loss: 1.537835\n",
      "\tvalidation loss: 1.608977\n",
      "\tvalidation accuracy: 0.852\n",
      "Epoch 15 of 100 took 0.090s\n",
      "\t  training loss: 1.537187\n",
      "\tvalidation loss: 1.608709\n",
      "\tvalidation accuracy: 0.857\n",
      "Epoch 16 of 100 took 0.090s\n",
      "\t  training loss: 1.536270\n",
      "\tvalidation loss: 1.605455\n",
      "\tvalidation accuracy: 0.856\n",
      "Epoch 17 of 100 took 0.091s\n",
      "\t  training loss: 1.535459\n",
      "\tvalidation loss: 1.612812\n",
      "\tvalidation accuracy: 0.852\n",
      "Epoch 18 of 100 took 0.096s\n",
      "\t  training loss: 1.534761\n",
      "\tvalidation loss: 1.603606\n",
      "\tvalidation accuracy: 0.855\n",
      "Epoch 19 of 100 took 0.096s\n",
      "\t  training loss: 1.534192\n",
      "\tvalidation loss: 1.605632\n",
      "\tvalidation accuracy: 0.856\n",
      "Epoch 20 of 100 took 0.090s\n",
      "\t  training loss: 1.533553\n",
      "\tvalidation loss: 1.606050\n",
      "\tvalidation accuracy: 0.860\n",
      "Epoch 21 of 100 took 0.095s\n",
      "\t  training loss: 1.533319\n",
      "\tvalidation loss: 1.607705\n",
      "\tvalidation accuracy: 0.855\n",
      "Epoch 22 of 100 took 0.096s\n",
      "\t  training loss: 1.532424\n",
      "\tvalidation loss: 1.605793\n",
      "\tvalidation accuracy: 0.858\n",
      "Epoch 23 of 100 took 0.088s\n",
      "\t  training loss: 1.531714\n",
      "\tvalidation loss: 1.604170\n",
      "\tvalidation accuracy: 0.858\n",
      "Epoch 24 of 100 took 0.093s\n",
      "\t  training loss: 1.530823\n",
      "\tvalidation loss: 1.607464\n",
      "\tvalidation accuracy: 0.858\n",
      "Epoch 25 of 100 took 0.097s\n",
      "\t  training loss: 1.530267\n",
      "\tvalidation loss: 1.610142\n",
      "\tvalidation accuracy: 0.860\n",
      "Epoch 26 of 100 took 0.096s\n",
      "\t  training loss: 1.529991\n",
      "\tvalidation loss: 1.602995\n",
      "\tvalidation accuracy: 0.858\n",
      "Epoch 27 of 100 took 0.096s\n",
      "\t  training loss: 1.528933\n",
      "\tvalidation loss: 1.605371\n",
      "\tvalidation accuracy: 0.861\n",
      "Epoch 28 of 100 took 0.099s\n",
      "\t  training loss: 1.528748\n",
      "\tvalidation loss: 1.607446\n",
      "\tvalidation accuracy: 0.857\n",
      "Epoch 29 of 100 took 0.104s\n",
      "\t  training loss: 1.528379\n",
      "\tvalidation loss: 1.606045\n",
      "\tvalidation accuracy: 0.855\n",
      "Epoch 30 of 100 took 0.106s\n",
      "\t  training loss: 1.527909\n",
      "\tvalidation loss: 1.607102\n",
      "\tvalidation accuracy: 0.850\n",
      "Epoch 31 of 100 took 0.104s\n",
      "\t  training loss: 1.527064\n",
      "\tvalidation loss: 1.607390\n",
      "\tvalidation accuracy: 0.851\n",
      "Epoch 32 of 100 took 0.103s\n",
      "\t  training loss: 1.526472\n",
      "\tvalidation loss: 1.605243\n",
      "\tvalidation accuracy: 0.856\n",
      "Epoch 33 of 100 took 0.103s\n",
      "\t  training loss: 1.526380\n",
      "\tvalidation loss: 1.603808\n",
      "\tvalidation accuracy: 0.858\n",
      "Epoch 34 of 100 took 0.104s\n",
      "\t  training loss: 1.525992\n",
      "\tvalidation loss: 1.604148\n",
      "\tvalidation accuracy: 0.855\n",
      "Epoch 35 of 100 took 0.098s\n",
      "\t  training loss: 1.525316\n",
      "\tvalidation loss: 1.604536\n",
      "\tvalidation accuracy: 0.855\n",
      "Epoch 36 of 100 took 0.094s\n",
      "\t  training loss: 1.524937\n",
      "\tvalidation loss: 1.606475\n",
      "\tvalidation accuracy: 0.853\n",
      "Epoch 37 of 100 took 0.099s\n",
      "\t  training loss: 1.524447\n",
      "\tvalidation loss: 1.601202\n",
      "\tvalidation accuracy: 0.854\n",
      "Epoch 38 of 100 took 0.093s\n",
      "\t  training loss: 1.523890\n",
      "\tvalidation loss: 1.603367\n",
      "\tvalidation accuracy: 0.858\n",
      "Epoch 39 of 100 took 0.094s\n",
      "\t  training loss: 1.523393\n",
      "\tvalidation loss: 1.605003\n",
      "\tvalidation accuracy: 0.855\n",
      "Epoch 40 of 100 took 0.096s\n",
      "\t  training loss: 1.523400\n",
      "\tvalidation loss: 1.605889\n",
      "\tvalidation accuracy: 0.848\n",
      "Epoch 41 of 100 took 0.095s\n",
      "\t  training loss: 1.522603\n",
      "\tvalidation loss: 1.605011\n",
      "\tvalidation accuracy: 0.848\n",
      "Epoch 42 of 100 took 0.099s\n",
      "\t  training loss: 1.521669\n",
      "\tvalidation loss: 1.607643\n",
      "\tvalidation accuracy: 0.851\n",
      "Epoch 43 of 100 took 0.097s\n",
      "\t  training loss: 1.521425\n",
      "\tvalidation loss: 1.606704\n",
      "\tvalidation accuracy: 0.848\n",
      "Epoch 44 of 100 took 0.097s\n",
      "\t  training loss: 1.521343\n",
      "\tvalidation loss: 1.602781\n",
      "\tvalidation accuracy: 0.856\n",
      "Epoch 45 of 100 took 0.096s\n",
      "\t  training loss: 1.520649\n",
      "\tvalidation loss: 1.603589\n",
      "\tvalidation accuracy: 0.856\n",
      "Epoch 46 of 100 took 0.098s\n",
      "\t  training loss: 1.520326\n",
      "\tvalidation loss: 1.600798\n",
      "\tvalidation accuracy: 0.848\n",
      "Epoch 47 of 100 took 0.094s\n",
      "\t  training loss: 1.520259\n",
      "\tvalidation loss: 1.603340\n",
      "\tvalidation accuracy: 0.848\n",
      "Epoch 48 of 100 took 0.093s\n",
      "\t  training loss: 1.520044\n",
      "\tvalidation loss: 1.607035\n",
      "\tvalidation accuracy: 0.843\n",
      "Epoch 49 of 100 took 0.097s\n",
      "\t  training loss: 1.519455\n",
      "\tvalidation loss: 1.609907\n",
      "\tvalidation accuracy: 0.850\n",
      "Epoch 50 of 100 took 0.090s\n",
      "\t  training loss: 1.518950\n",
      "\tvalidation loss: 1.602566\n",
      "\tvalidation accuracy: 0.851\n",
      "Epoch 51 of 100 took 0.095s\n",
      "\t  training loss: 1.519036\n",
      "\tvalidation loss: 1.603940\n",
      "\tvalidation accuracy: 0.852\n",
      "Epoch 52 of 100 took 0.097s\n",
      "\t  training loss: 1.518185\n",
      "\tvalidation loss: 1.606036\n",
      "\tvalidation accuracy: 0.848\n",
      "Epoch 53 of 100 took 0.092s\n",
      "\t  training loss: 1.517672\n",
      "\tvalidation loss: 1.604855\n",
      "\tvalidation accuracy: 0.852\n",
      "Epoch 54 of 100 took 0.091s\n",
      "\t  training loss: 1.517492\n",
      "\tvalidation loss: 1.605183\n",
      "\tvalidation accuracy: 0.850\n",
      "Epoch 55 of 100 took 0.096s\n",
      "\t  training loss: 1.516667\n",
      "\tvalidation loss: 1.603588\n",
      "\tvalidation accuracy: 0.850\n",
      "Epoch 56 of 100 took 0.089s\n",
      "\t  training loss: 1.516525\n",
      "\tvalidation loss: 1.605584\n",
      "\tvalidation accuracy: 0.853\n",
      "Epoch 57 of 100 took 0.090s\n",
      "\t  training loss: 1.516330\n",
      "\tvalidation loss: 1.603952\n",
      "\tvalidation accuracy: 0.856\n",
      "Epoch 58 of 100 took 0.094s\n",
      "\t  training loss: 1.515780\n",
      "\tvalidation loss: 1.605193\n",
      "\tvalidation accuracy: 0.853\n",
      "Epoch 59 of 100 took 0.096s\n",
      "\t  training loss: 1.515547\n",
      "\tvalidation loss: 1.603476\n",
      "\tvalidation accuracy: 0.861\n",
      "Epoch 60 of 100 took 0.087s\n",
      "\t  training loss: 1.515156\n",
      "\tvalidation loss: 1.605098\n",
      "\tvalidation accuracy: 0.856\n",
      "Epoch 61 of 100 took 0.095s\n",
      "\t  training loss: 1.515255\n",
      "\tvalidation loss: 1.603112\n",
      "\tvalidation accuracy: 0.854\n",
      "Epoch 62 of 100 took 0.089s\n",
      "\t  training loss: 1.515308\n",
      "\tvalidation loss: 1.602753\n",
      "\tvalidation accuracy: 0.851\n",
      "Epoch 63 of 100 took 0.091s\n",
      "\t  training loss: 1.514405\n",
      "\tvalidation loss: 1.602956\n",
      "\tvalidation accuracy: 0.853\n",
      "Epoch 64 of 100 took 0.096s\n",
      "\t  training loss: 1.514266\n",
      "\tvalidation loss: 1.609893\n",
      "\tvalidation accuracy: 0.848\n",
      "Epoch 65 of 100 took 0.089s\n",
      "\t  training loss: 1.514263\n",
      "\tvalidation loss: 1.602019\n",
      "\tvalidation accuracy: 0.855\n",
      "Epoch 66 of 100 took 0.089s\n",
      "\t  training loss: 1.513578\n",
      "\tvalidation loss: 1.604094\n",
      "\tvalidation accuracy: 0.856\n",
      "Epoch 67 of 100 took 0.094s\n",
      "\t  training loss: 1.513545\n",
      "\tvalidation loss: 1.605427\n",
      "\tvalidation accuracy: 0.855\n",
      "Epoch 68 of 100 took 0.094s\n",
      "\t  training loss: 1.512992\n",
      "\tvalidation loss: 1.606528\n",
      "\tvalidation accuracy: 0.858\n",
      "Epoch 69 of 100 took 0.088s\n",
      "\t  training loss: 1.513140\n",
      "\tvalidation loss: 1.604007\n",
      "\tvalidation accuracy: 0.854\n",
      "Epoch 70 of 100 took 0.094s\n",
      "\t  training loss: 1.512582\n",
      "\tvalidation loss: 1.604211\n",
      "\tvalidation accuracy: 0.856\n",
      "Epoch 71 of 100 took 0.092s\n",
      "\t  training loss: 1.512322\n",
      "\tvalidation loss: 1.604971\n",
      "\tvalidation accuracy: 0.856\n",
      "Epoch 72 of 100 took 0.089s\n",
      "\t  training loss: 1.511824\n",
      "\tvalidation loss: 1.609755\n",
      "\tvalidation accuracy: 0.848\n",
      "Epoch 73 of 100 took 0.095s\n",
      "\t  training loss: 1.512315\n",
      "\tvalidation loss: 1.606717\n",
      "\tvalidation accuracy: 0.853\n",
      "Epoch 74 of 100 took 0.090s\n",
      "\t  training loss: 1.511544\n",
      "\tvalidation loss: 1.604200\n",
      "\tvalidation accuracy: 0.853\n",
      "Epoch 75 of 100 took 0.086s\n",
      "\t  training loss: 1.511552\n",
      "\tvalidation loss: 1.605949\n",
      "\tvalidation accuracy: 0.858\n"
     ]
    },
    {
     "name": "stdout",
     "output_type": "stream",
     "text": [
      "Epoch 76 of 100 took 0.095s\n",
      "\t  training loss: 1.511581\n",
      "\tvalidation loss: 1.606916\n",
      "\tvalidation accuracy: 0.855\n",
      "Epoch 77 of 100 took 0.092s\n",
      "\t  training loss: 1.510828\n",
      "\tvalidation loss: 1.606083\n",
      "\tvalidation accuracy: 0.850\n",
      "Epoch 78 of 100 took 0.091s\n",
      "\t  training loss: 1.510742\n",
      "\tvalidation loss: 1.607999\n",
      "\tvalidation accuracy: 0.855\n",
      "Epoch 79 of 100 took 0.096s\n",
      "\t  training loss: 1.510233\n",
      "\tvalidation loss: 1.605982\n",
      "\tvalidation accuracy: 0.850\n",
      "Epoch 80 of 100 took 0.091s\n",
      "\t  training loss: 1.510512\n",
      "\tvalidation loss: 1.608139\n",
      "\tvalidation accuracy: 0.849\n",
      "Epoch 81 of 100 took 0.091s\n",
      "\t  training loss: 1.509687\n",
      "\tvalidation loss: 1.606493\n",
      "\tvalidation accuracy: 0.853\n",
      "Epoch 82 of 100 took 0.093s\n",
      "\t  training loss: 1.509783\n",
      "\tvalidation loss: 1.607308\n",
      "\tvalidation accuracy: 0.852\n",
      "Epoch 83 of 100 took 0.092s\n",
      "\t  training loss: 1.509219\n",
      "\tvalidation loss: 1.608066\n",
      "\tvalidation accuracy: 0.855\n",
      "Epoch 84 of 100 took 0.089s\n",
      "\t  training loss: 1.508959\n",
      "\tvalidation loss: 1.607883\n",
      "\tvalidation accuracy: 0.853\n",
      "Epoch 85 of 100 took 0.094s\n",
      "\t  training loss: 1.508679\n",
      "\tvalidation loss: 1.606899\n",
      "\tvalidation accuracy: 0.850\n",
      "Epoch 86 of 100 took 0.093s\n",
      "\t  training loss: 1.508897\n",
      "\tvalidation loss: 1.610792\n",
      "\tvalidation accuracy: 0.850\n",
      "Epoch 87 of 100 took 0.091s\n",
      "\t  training loss: 1.508872\n",
      "\tvalidation loss: 1.605292\n",
      "\tvalidation accuracy: 0.853\n",
      "Epoch 88 of 100 took 0.097s\n",
      "\t  training loss: 1.508112\n",
      "\tvalidation loss: 1.610448\n",
      "\tvalidation accuracy: 0.850\n",
      "Epoch 89 of 100 took 0.093s\n",
      "\t  training loss: 1.508024\n",
      "\tvalidation loss: 1.609242\n",
      "\tvalidation accuracy: 0.847\n",
      "Epoch 90 of 100 took 0.095s\n",
      "\t  training loss: 1.507516\n",
      "\tvalidation loss: 1.613114\n",
      "\tvalidation accuracy: 0.845\n",
      "Epoch 91 of 100 took 0.095s\n",
      "\t  training loss: 1.507815\n",
      "\tvalidation loss: 1.611879\n",
      "\tvalidation accuracy: 0.850\n",
      "Epoch 92 of 100 took 0.094s\n",
      "\t  training loss: 1.507425\n",
      "\tvalidation loss: 1.605646\n",
      "\tvalidation accuracy: 0.854\n",
      "Epoch 93 of 100 took 0.091s\n",
      "\t  training loss: 1.507192\n",
      "\tvalidation loss: 1.606448\n",
      "\tvalidation accuracy: 0.860\n",
      "Epoch 94 of 100 took 0.094s\n",
      "\t  training loss: 1.506990\n",
      "\tvalidation loss: 1.608678\n",
      "\tvalidation accuracy: 0.846\n",
      "Epoch 95 of 100 took 0.092s\n",
      "\t  training loss: 1.506903\n",
      "\tvalidation loss: 1.610565\n",
      "\tvalidation accuracy: 0.849\n",
      "Epoch 96 of 100 took 0.088s\n",
      "\t  training loss: 1.506553\n",
      "\tvalidation loss: 1.607359\n",
      "\tvalidation accuracy: 0.853\n",
      "Epoch 97 of 100 took 0.095s\n",
      "\t  training loss: 1.506298\n",
      "\tvalidation loss: 1.607480\n",
      "\tvalidation accuracy: 0.853\n",
      "Epoch 98 of 100 took 0.094s\n",
      "\t  training loss: 1.506640\n",
      "\tvalidation loss: 1.610673\n",
      "\tvalidation accuracy: 0.847\n",
      "Epoch 99 of 100 took 0.089s\n",
      "\t  training loss: 1.506032\n",
      "\tvalidation loss: 1.607969\n",
      "\tvalidation accuracy: 0.841\n",
      "Epoch 100 of 100 took 0.094s\n",
      "\t  training loss: 1.506266\n",
      "\tvalidation loss: 1.607028\n",
      "\tvalidation accuracy: 0.852\n"
     ]
    }
   ],
   "source": [
    "n_epochs = 100\n",
    "\n",
    "train_loss, val_loss, val_accuracy = train_model(\n",
    "    model, train_loader, val_loader, loss_func, opt, n_epochs\n",
    ")"
   ]
  },
  {
   "cell_type": "code",
   "execution_count": 65,
   "metadata": {
    "ExecuteTime": {
     "end_time": "2021-03-26T11:13:28.898450Z",
     "start_time": "2021-03-26T11:13:28.895507Z"
    }
   },
   "outputs": [],
   "source": [
    "def plot_train_process(train_loss, val_loss, val_accuracy):\n",
    "    fig, axes = plt.subplots(1, 2, figsize=(15, 5))\n",
    "\n",
    "    axes[0].set_title(\"Loss\")\n",
    "    axes[0].plot(train_loss, label=\"train\")\n",
    "    axes[0].plot(val_loss, label=\"validation\")\n",
    "    axes[0].grid()\n",
    "    axes[0].legend()\n",
    "\n",
    "    axes[1].set_title(\"Validation accuracy\")\n",
    "    axes[1].grid()\n",
    "    axes[1].plot(val_accuracy)"
   ]
  },
  {
   "cell_type": "code",
   "execution_count": 66,
   "metadata": {
    "ExecuteTime": {
     "end_time": "2021-03-26T11:13:29.311621Z",
     "start_time": "2021-03-26T11:13:28.900389Z"
    }
   },
   "outputs": [
    {
     "data": {
      "image/png": "[encoded data removed]",
      "text/plain": [
       "<Figure size 1080x360 with 2 Axes>"
      ]
     },
     "metadata": {
      "needs_background": "light"
     },
     "output_type": "display_data"
    }
   ],
   "source": [
    "plot_train_process(train_loss, val_loss, val_accuracy)"
   ]
  },
  {
   "cell_type": "markdown",
   "metadata": {},
   "source": [
    "## Real network"
   ]
  },
  {
   "cell_type": "code",
   "execution_count": 71,
   "metadata": {
    "ExecuteTime": {
     "end_time": "2021-03-26T11:16:58.836212Z",
     "start_time": "2021-03-26T11:16:58.830423Z"
    }
   },
   "outputs": [],
   "source": [
    "# create network again just in case\n",
    "model = nn.Sequential(\n",
    "    nn.Linear(784, 500),\n",
    "    nn.ReLU(),\n",
    "    nn.Linear(500, 200),\n",
    "    nn.ReLU(),\n",
    "    #     nn.Dropout(),\n",
    "    nn.Linear(200, 10),\n",
    "    nn.Sigmoid(),\n",
    ")\n",
    "model.to(device, torch.float32)\n",
    "\n",
    "opt = torch.optim.Adam(model.parameters(), lr=1e-3)"
   ]
  },
  {
   "cell_type": "code",
   "execution_count": 72,
   "metadata": {
    "ExecuteTime": {
     "end_time": "2021-03-26T11:17:08.936302Z",
     "start_time": "2021-03-26T11:16:59.238667Z"
    },
    "scrolled": true
   },
   "outputs": [
    {
     "name": "stdout",
     "output_type": "stream",
     "text": [
      "Epoch 1 of 30 took 0.311s\n",
      "\t  training loss: 1.734259\n",
      "\tvalidation loss: 1.631335\n",
      "\tvalidation accuracy: 0.830\n",
      "Epoch 2 of 30 took 0.310s\n",
      "\t  training loss: 1.591984\n",
      "\tvalidation loss: 1.599045\n",
      "\tvalidation accuracy: 0.865\n",
      "Epoch 3 of 30 took 0.299s\n",
      "\t  training loss: 1.551076\n",
      "\tvalidation loss: 1.582624\n",
      "\tvalidation accuracy: 0.870\n",
      "Epoch 4 of 30 took 0.316s\n",
      "\t  training loss: 1.531351\n",
      "\tvalidation loss: 1.572198\n",
      "\tvalidation accuracy: 0.891\n",
      "Epoch 5 of 30 took 0.313s\n",
      "\t  training loss: 1.521927\n",
      "\tvalidation loss: 1.569492\n",
      "\tvalidation accuracy: 0.889\n",
      "Epoch 6 of 30 took 0.354s\n",
      "\t  training loss: 1.517626\n",
      "\tvalidation loss: 1.577885\n",
      "\tvalidation accuracy: 0.874\n",
      "Epoch 7 of 30 took 0.324s\n",
      "\t  training loss: 1.510266\n",
      "\tvalidation loss: 1.571264\n",
      "\tvalidation accuracy: 0.889\n",
      "Epoch 8 of 30 took 0.359s\n",
      "\t  training loss: 1.504642\n",
      "\tvalidation loss: 1.576469\n",
      "\tvalidation accuracy: 0.881\n",
      "Epoch 9 of 30 took 0.377s\n",
      "\t  training loss: 1.501517\n",
      "\tvalidation loss: 1.574189\n",
      "\tvalidation accuracy: 0.888\n",
      "Epoch 10 of 30 took 0.335s\n",
      "\t  training loss: 1.502440\n",
      "\tvalidation loss: 1.580962\n",
      "\tvalidation accuracy: 0.878\n",
      "Epoch 11 of 30 took 0.390s\n",
      "\t  training loss: 1.506615\n",
      "\tvalidation loss: 1.587622\n",
      "\tvalidation accuracy: 0.867\n",
      "Epoch 12 of 30 took 0.344s\n",
      "\t  training loss: 1.504202\n",
      "\tvalidation loss: 1.577432\n",
      "\tvalidation accuracy: 0.874\n",
      "Epoch 13 of 30 took 0.351s\n",
      "\t  training loss: 1.499589\n",
      "\tvalidation loss: 1.579547\n",
      "\tvalidation accuracy: 0.872\n",
      "Epoch 14 of 30 took 0.295s\n",
      "\t  training loss: 1.498611\n",
      "\tvalidation loss: 1.583173\n",
      "\tvalidation accuracy: 0.865\n",
      "Epoch 15 of 30 took 0.332s\n",
      "\t  training loss: 1.500563\n",
      "\tvalidation loss: 1.578367\n",
      "\tvalidation accuracy: 0.879\n",
      "Epoch 16 of 30 took 0.316s\n",
      "\t  training loss: 1.500983\n",
      "\tvalidation loss: 1.572897\n",
      "\tvalidation accuracy: 0.878\n",
      "Epoch 17 of 30 took 0.330s\n",
      "\t  training loss: 1.496860\n",
      "\tvalidation loss: 1.571458\n",
      "\tvalidation accuracy: 0.891\n",
      "Epoch 18 of 30 took 0.301s\n",
      "\t  training loss: 1.495641\n",
      "\tvalidation loss: 1.577143\n",
      "\tvalidation accuracy: 0.879\n",
      "Epoch 19 of 30 took 0.307s\n",
      "\t  training loss: 1.494331\n",
      "\tvalidation loss: 1.572919\n",
      "\tvalidation accuracy: 0.881\n",
      "Epoch 20 of 30 took 0.300s\n",
      "\t  training loss: 1.492584\n",
      "\tvalidation loss: 1.570182\n",
      "\tvalidation accuracy: 0.888\n",
      "Epoch 21 of 30 took 0.301s\n",
      "\t  training loss: 1.499092\n",
      "\tvalidation loss: 1.575751\n",
      "\tvalidation accuracy: 0.876\n",
      "Epoch 22 of 30 took 0.298s\n",
      "\t  training loss: 1.495458\n",
      "\tvalidation loss: 1.570986\n",
      "\tvalidation accuracy: 0.884\n",
      "Epoch 23 of 30 took 0.301s\n",
      "\t  training loss: 1.494241\n",
      "\tvalidation loss: 1.579674\n",
      "\tvalidation accuracy: 0.868\n",
      "Epoch 24 of 30 took 0.300s\n",
      "\t  training loss: 1.499182\n",
      "\tvalidation loss: 1.567270\n",
      "\tvalidation accuracy: 0.884\n",
      "Epoch 25 of 30 took 0.303s\n",
      "\t  training loss: 1.505243\n",
      "\tvalidation loss: 1.570201\n",
      "\tvalidation accuracy: 0.884\n",
      "Epoch 26 of 30 took 0.326s\n",
      "\t  training loss: 1.498914\n",
      "\tvalidation loss: 1.579521\n",
      "\tvalidation accuracy: 0.860\n",
      "Epoch 27 of 30 took 0.317s\n",
      "\t  training loss: 1.504143\n",
      "\tvalidation loss: 1.576098\n",
      "\tvalidation accuracy: 0.877\n",
      "Epoch 28 of 30 took 0.320s\n",
      "\t  training loss: 1.503783\n",
      "\tvalidation loss: 1.583293\n",
      "\tvalidation accuracy: 0.867\n",
      "Epoch 29 of 30 took 0.314s\n",
      "\t  training loss: 1.505580\n",
      "\tvalidation loss: 1.575152\n",
      "\tvalidation accuracy: 0.879\n",
      "Epoch 30 of 30 took 0.337s\n",
      "\t  training loss: 1.498564\n",
      "\tvalidation loss: 1.587287\n",
      "\tvalidation accuracy: 0.868\n"
     ]
    }
   ],
   "source": [
    "n_epochs = 30\n",
    "\n",
    "train_loss, val_loss, val_accuracy = train_model(\n",
    "    model, train_loader, val_loader, loss_func, opt, n_epochs\n",
    ")"
   ]
  },
  {
   "cell_type": "code",
   "execution_count": 73,
   "metadata": {
    "ExecuteTime": {
     "end_time": "2021-03-26T11:17:09.198137Z",
     "start_time": "2021-03-26T11:17:08.938097Z"
    }
   },
   "outputs": [
    {
     "data": {
      "image/png": "[encoded data removed]",
      "text/plain": [
       "<Figure size 1080x360 with 2 Axes>"
      ]
     },
     "metadata": {
      "needs_background": "light"
     },
     "output_type": "display_data"
    }
   ],
   "source": [
    "plot_train_process(train_loss, val_loss, val_accuracy)"
   ]
  },
  {
   "cell_type": "markdown",
   "metadata": {},
   "source": [
    "## Overfit!!!"
   ]
  },
  {
   "cell_type": "code",
   "execution_count": 79,
   "metadata": {
    "ExecuteTime": {
     "end_time": "2021-03-26T11:22:41.303466Z",
     "start_time": "2021-03-26T11:22:41.293905Z"
    }
   },
   "outputs": [],
   "source": [
    "# create network again just in case\n",
    "model = nn.Sequential(\n",
    "    nn.Linear(784, 600),\n",
    "    nn.ReLU(),\n",
    "    nn.Linear(600, 500),\n",
    "    nn.ReLU(),\n",
    "    nn.Linear(500, 400),\n",
    "    nn.ReLU(),\n",
    "    nn.Linear(400, 200),\n",
    "    nn.ReLU(),\n",
    "    nn.Linear(200, 10),\n",
    "    nn.Sigmoid(),\n",
    ")\n",
    "model.to(device, torch.float32)\n",
    "\n",
    "opt = torch.optim.Adam(model.parameters(), lr=1e-4)"
   ]
  },
  {
   "cell_type": "code",
   "execution_count": 80,
   "metadata": {
    "ExecuteTime": {
     "end_time": "2021-03-26T11:23:01.288319Z",
     "start_time": "2021-03-26T11:22:41.645173Z"
    },
    "scrolled": true
   },
   "outputs": [
    {
     "name": "stdout",
     "output_type": "stream",
     "text": [
      "Epoch 1 of 30 took 0.681s\n",
      "\t  training loss: 2.143313\n",
      "\tvalidation loss: 1.810770\n",
      "\tvalidation accuracy: 0.689\n",
      "Epoch 2 of 30 took 0.665s\n",
      "\t  training loss: 1.699320\n",
      "\tvalidation loss: 1.653433\n",
      "\tvalidation accuracy: 0.677\n",
      "Epoch 3 of 30 took 0.650s\n",
      "\t  training loss: 1.628803\n",
      "\tvalidation loss: 1.627719\n",
      "\tvalidation accuracy: 0.682\n",
      "Epoch 4 of 30 took 0.648s\n",
      "\t  training loss: 1.601442\n",
      "\tvalidation loss: 1.614173\n",
      "\tvalidation accuracy: 0.693\n",
      "Epoch 5 of 30 took 0.659s\n",
      "\t  training loss: 1.584005\n",
      "\tvalidation loss: 1.608448\n",
      "\tvalidation accuracy: 0.694\n",
      "Epoch 6 of 30 took 0.656s\n",
      "\t  training loss: 1.572771\n",
      "\tvalidation loss: 1.603624\n",
      "\tvalidation accuracy: 0.692\n",
      "Epoch 7 of 30 took 0.671s\n",
      "\t  training loss: 1.562056\n",
      "\tvalidation loss: 1.597327\n",
      "\tvalidation accuracy: 0.730\n",
      "Epoch 8 of 30 took 0.673s\n",
      "\t  training loss: 1.557009\n",
      "\tvalidation loss: 1.599820\n",
      "\tvalidation accuracy: 0.744\n",
      "Epoch 9 of 30 took 0.664s\n",
      "\t  training loss: 1.549231\n",
      "\tvalidation loss: 1.599348\n",
      "\tvalidation accuracy: 0.737\n",
      "Epoch 10 of 30 took 0.690s\n",
      "\t  training loss: 1.544256\n",
      "\tvalidation loss: 1.598748\n",
      "\tvalidation accuracy: 0.749\n",
      "Epoch 11 of 30 took 0.668s\n",
      "\t  training loss: 1.536963\n",
      "\tvalidation loss: 1.587030\n",
      "\tvalidation accuracy: 0.812\n",
      "Epoch 12 of 30 took 0.755s\n",
      "\t  training loss: 1.528038\n",
      "\tvalidation loss: 1.579024\n",
      "\tvalidation accuracy: 0.842\n",
      "Epoch 13 of 30 took 0.722s\n",
      "\t  training loss: 1.522230\n",
      "\tvalidation loss: 1.583461\n",
      "\tvalidation accuracy: 0.836\n",
      "Epoch 14 of 30 took 0.657s\n",
      "\t  training loss: 1.518981\n",
      "\tvalidation loss: 1.583164\n",
      "\tvalidation accuracy: 0.867\n",
      "Epoch 15 of 30 took 0.675s\n",
      "\t  training loss: 1.516015\n",
      "\tvalidation loss: 1.580749\n",
      "\tvalidation accuracy: 0.882\n",
      "Epoch 16 of 30 took 0.643s\n",
      "\t  training loss: 1.511884\n",
      "\tvalidation loss: 1.580807\n",
      "\tvalidation accuracy: 0.886\n",
      "Epoch 17 of 30 took 0.678s\n",
      "\t  training loss: 1.504907\n",
      "\tvalidation loss: 1.568525\n",
      "\tvalidation accuracy: 0.891\n",
      "Epoch 18 of 30 took 0.658s\n",
      "\t  training loss: 1.501219\n",
      "\tvalidation loss: 1.573767\n",
      "\tvalidation accuracy: 0.882\n",
      "Epoch 19 of 30 took 0.628s\n",
      "\t  training loss: 1.497051\n",
      "\tvalidation loss: 1.570226\n",
      "\tvalidation accuracy: 0.885\n",
      "Epoch 20 of 30 took 0.628s\n",
      "\t  training loss: 1.494939\n",
      "\tvalidation loss: 1.572306\n",
      "\tvalidation accuracy: 0.886\n",
      "Epoch 21 of 30 took 0.640s\n",
      "\t  training loss: 1.494120\n",
      "\tvalidation loss: 1.569523\n",
      "\tvalidation accuracy: 0.888\n",
      "Epoch 22 of 30 took 0.636s\n",
      "\t  training loss: 1.493574\n",
      "\tvalidation loss: 1.573762\n",
      "\tvalidation accuracy: 0.889\n",
      "Epoch 23 of 30 took 0.644s\n",
      "\t  training loss: 1.493279\n",
      "\tvalidation loss: 1.572419\n",
      "\tvalidation accuracy: 0.881\n",
      "Epoch 24 of 30 took 0.618s\n",
      "\t  training loss: 1.492151\n",
      "\tvalidation loss: 1.573663\n",
      "\tvalidation accuracy: 0.888\n",
      "Epoch 25 of 30 took 0.621s\n",
      "\t  training loss: 1.490229\n",
      "\tvalidation loss: 1.572366\n",
      "\tvalidation accuracy: 0.891\n",
      "Epoch 26 of 30 took 0.621s\n",
      "\t  training loss: 1.490882\n",
      "\tvalidation loss: 1.571646\n",
      "\tvalidation accuracy: 0.893\n",
      "Epoch 27 of 30 took 0.615s\n",
      "\t  training loss: 1.489226\n",
      "\tvalidation loss: 1.578307\n",
      "\tvalidation accuracy: 0.883\n",
      "Epoch 28 of 30 took 0.614s\n",
      "\t  training loss: 1.488640\n",
      "\tvalidation loss: 1.573689\n",
      "\tvalidation accuracy: 0.893\n",
      "Epoch 29 of 30 took 0.619s\n",
      "\t  training loss: 1.488029\n",
      "\tvalidation loss: 1.573832\n",
      "\tvalidation accuracy: 0.887\n",
      "Epoch 30 of 30 took 0.629s\n",
      "\t  training loss: 1.487596\n",
      "\tvalidation loss: 1.572095\n",
      "\tvalidation accuracy: 0.891\n"
     ]
    }
   ],
   "source": [
    "n_epochs = 30\n",
    "\n",
    "train_loss, val_loss, val_accuracy = train_model(\n",
    "    model, train_loader, val_loader, loss_func, opt, n_epochs\n",
    ")"
   ]
  },
  {
   "cell_type": "code",
   "execution_count": 81,
   "metadata": {
    "ExecuteTime": {
     "end_time": "2021-03-26T11:23:05.957140Z",
     "start_time": "2021-03-26T11:23:05.710248Z"
    }
   },
   "outputs": [
    {
     "data": {
      "image/png": "[encoded data removed]",
      "text/plain": [
       "<Figure size 1080x360 with 2 Axes>"
      ]
     },
     "metadata": {
      "needs_background": "light"
     },
     "output_type": "display_data"
    }
   ],
   "source": [
    "plot_train_process(train_loss, val_loss, val_accuracy)"
   ]
  },
  {
   "cell_type": "markdown",
   "metadata": {},
   "source": [
    "## Your turn\n",
    "Try to add some additional transformations (e.g. random crop, rotation etc.) and train your model!"
   ]
  },
  {
   "cell_type": "markdown",
   "metadata": {},
   "source": [
    "### Dropout try"
   ]
  },
  {
   "cell_type": "code",
   "execution_count": null,
   "metadata": {},
   "outputs": [],
   "source": []
  },
  {
   "cell_type": "markdown",
   "metadata": {},
   "source": [
    "### Batchnorm try"
   ]
  },
  {
   "cell_type": "code",
   "execution_count": null,
   "metadata": {},
   "outputs": [],
   "source": []
  },
  {
   "cell_type": "markdown",
   "metadata": {},
   "source": [
    "### 3. Save the model (model checkpointing)\n",
    "\n",
    "Now we have trained a model! Obviously we do not want to retrain the model everytime we want to use it. Plus if you are training a super big model, you probably want to save checkpoint periodically so that you can always fall back to the last checkpoint in case something bad happened or you simply want to test models at different training iterations.\n",
    "\n",
    "Model checkpointing is fairly simple in PyTorch. First, we define a helper function that can save a model to the disk"
   ]
  },
  {
   "cell_type": "code",
   "execution_count": null,
   "metadata": {},
   "outputs": [],
   "source": [
    "def save_checkpoint(checkpoint_path, model, optimizer):\n",
    "    # state_dict: a Python dictionary object that:\n",
    "    # - for a model, maps each layer to its parameter tensor;\n",
    "    # - for an optimizer, contains info about the optimizer’s states and hyperparameters used.\n",
    "    state = {\"state_dict\": model.state_dict(), \"optimizer\": optimizer.state_dict()}\n",
    "    torch.save(state, checkpoint_path)\n",
    "    print(\"model saved to %s\" % checkpoint_path)\n",
    "\n",
    "\n",
    "def load_checkpoint(checkpoint_path, model, optimizer):\n",
    "    state = torch.load(checkpoint_path)\n",
    "    model.load_state_dict(state[\"state_dict\"])\n",
    "    optimizer.load_state_dict(state[\"optimizer\"])\n",
    "    print(\"model loaded from %s\" % checkpoint_path)"
   ]
  },
  {
   "cell_type": "code",
   "execution_count": null,
   "metadata": {},
   "outputs": [],
   "source": [
    "# create a brand new model\n",
    "model = Net().to(device)\n",
    "optimizer = optim.SGD(model.parameters(), lr=0.001, momentum=0.9)\n",
    "# Testing -- you should get a pretty poor performance since the model hasn't learned anything yet.\n",
    "test()"
   ]
  },
  {
   "cell_type": "markdown",
   "metadata": {},
   "source": [
    "#### Define a training loop with model checkpointing"
   ]
  },
  {
   "cell_type": "code",
   "execution_count": null,
   "metadata": {},
   "outputs": [],
   "source": [
    "def train_save(epoch, save_interval, log_interval=100):\n",
    "    model.train()  # set training mode\n",
    "    iteration = 0\n",
    "    for ep in range(epoch):\n",
    "        for batch_idx, (data, target) in enumerate(trainset_loader):\n",
    "            data, target = data.to(device), target.to(device)\n",
    "            optimizer.zero_grad()\n",
    "            output = model(data)\n",
    "            loss = F.nll_loss(output, target)\n",
    "            loss.backward()\n",
    "            optimizer.step()\n",
    "            if iteration % log_interval == 0:\n",
    "                print(\n",
    "                    \"Train Epoch: {} [{}/{} ({:.0f}%)]\\tLoss: {:.6f}\".format(\n",
    "                        ep,\n",
    "                        batch_idx * len(data),\n",
    "                        len(trainset_loader.dataset),\n",
    "                        100.0 * batch_idx / len(trainset_loader),\n",
    "                        loss.item(),\n",
    "                    )\n",
    "                )\n",
    "            # different from before: saving model checkpoints\n",
    "            if iteration % save_interval == 0 and iteration > 0:\n",
    "                save_checkpoint(\"mnist-%i.pth\" % iteration, model, optimizer)\n",
    "            iteration += 1\n",
    "        test()\n",
    "\n",
    "    # save the final model\n",
    "    save_checkpoint(\"mnist-%i.pth\" % iteration, model, optimizer)"
   ]
  },
  {
   "cell_type": "code",
   "execution_count": null,
   "metadata": {},
   "outputs": [],
   "source": [
    "train_save(5, save_interval=500, log_interval=100)"
   ]
  },
  {
   "cell_type": "code",
   "execution_count": null,
   "metadata": {},
   "outputs": [],
   "source": [
    "# create a new model\n",
    "model = Net().to(device)\n",
    "optimizer = optim.SGD(model.parameters(), lr=0.001, momentum=0.9)\n",
    "# load from the final checkpoint\n",
    "load_checkpoint(\"mnist-4690.pth\", model, optimizer)\n",
    "# should give you the final model accuracy\n",
    "test()"
   ]
  },
  {
   "cell_type": "markdown",
   "metadata": {},
   "source": [
    "### More about pytorch:\n",
    "* Using torch on GPU and multi-GPU - [link](http://pytorch.org/docs/master/notes/cuda.html)\n",
    "* More tutorials on pytorch - [link](http://pytorch.org/tutorials/beginner/deep_learning_60min_blitz.html)\n",
    "* Pytorch examples - a repo that implements many cool DL models in pytorch - [link](https://github.com/pytorch/examples)\n",
    "* Practical pytorch - a repo that implements some... other cool DL models... yes, in pytorch - [link](https://github.com/spro/practical-pytorch)\n",
    "* And some more - [link](https://www.reddit.com/r/pytorch/comments/6z0yeo/pytorch_and_pytorch_tricks_for_kaggle/)"
   ]
  }
 ],
 "metadata": {
  "kernelspec": {
   "display_name": "Python [conda env:ml-mipt]",
   "language": "python",
   "name": "conda-env-ml-mipt-py"
  },
  "language_info": {
   "codemirror_mode": {
    "name": "ipython",
    "version": 3
   },
   "file_extension": ".py",
   "mimetype": "text/x-python",
   "name": "python",
   "nbconvert_exporter": "python",
   "pygments_lexer": "ipython3",
   "version": "3.8.5"
  },
  "toc": {
   "base_numbering": 1,
   "nav_menu": {},
   "number_sections": true,
   "sideBar": true,
   "skip_h1_title": false,
   "title_cell": "Table of Contents",
   "title_sidebar": "Contents",
   "toc_cell": false,
   "toc_position": {},
   "toc_section_display": true,
   "toc_window_display": true
  }
 },
 "nbformat": 4,
 "nbformat_minor": 2
}
